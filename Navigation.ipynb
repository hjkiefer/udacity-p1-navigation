{
 "cells": [
  {
   "cell_type": "markdown",
   "metadata": {},
   "source": [
    "# Navigation\n",
    "\n",
    "---\n",
    "\n",
    "You are welcome to use this coding environment to train your agent for the project.  Follow the instructions below to get started!\n",
    "\n",
    "### 1. Start the Environment\n",
    "\n",
    "Run the next code cell to install a few packages.  This line will take a few minutes to run!"
   ]
  },
  {
   "cell_type": "code",
   "execution_count": 1,
   "metadata": {},
   "outputs": [
    {
     "name": "stdout",
     "output_type": "stream",
     "text": [
      "\u001b[31mtensorflow 1.7.1 has requirement numpy>=1.13.3, but you'll have numpy 1.12.1 which is incompatible.\u001b[0m\r\n",
      "\u001b[31mipython 6.5.0 has requirement prompt-toolkit<2.0.0,>=1.0.15, but you'll have prompt-toolkit 3.0.21 which is incompatible.\u001b[0m\r\n"
     ]
    }
   ],
   "source": [
    "!pip -q install ./python"
   ]
  },
  {
   "cell_type": "markdown",
   "metadata": {},
   "source": [
    "The environment is already saved in the Workspace and can be accessed at the file path provided below.  Please run the next code cell without making any changes."
   ]
  },
  {
   "cell_type": "code",
   "execution_count": 2,
   "metadata": {},
   "outputs": [
    {
     "name": "stderr",
     "output_type": "stream",
     "text": [
      "INFO:unityagents:\n",
      "'Academy' started successfully!\n",
      "Unity Academy name: Academy\n",
      "        Number of Brains: 1\n",
      "        Number of External Brains : 1\n",
      "        Lesson number : 0\n",
      "        Reset Parameters :\n",
      "\t\t\n",
      "Unity brain name: BananaBrain\n",
      "        Number of Visual Observations (per agent): 0\n",
      "        Vector Observation space type: continuous\n",
      "        Vector Observation space size (per agent): 37\n",
      "        Number of stacked Vector Observation: 1\n",
      "        Vector Action space type: discrete\n",
      "        Vector Action space size (per agent): 4\n",
      "        Vector Action descriptions: , , , \n"
     ]
    }
   ],
   "source": [
    "from unityagents import UnityEnvironment\n",
    "import numpy as np\n",
    "import torch\n",
    "from collections import deque\n",
    "\n",
    "# please do not modify the line below\n",
    "env = UnityEnvironment(file_name=\"/data/Banana_Linux_NoVis/Banana.x86_64\")"
   ]
  },
  {
   "cell_type": "markdown",
   "metadata": {},
   "source": [
    "Environments contain **_brains_** which are responsible for deciding the actions of their associated agents. Here we check for the first brain available, and set it as the default brain we will be controlling from Python."
   ]
  },
  {
   "cell_type": "code",
   "execution_count": 3,
   "metadata": {},
   "outputs": [],
   "source": [
    "# get the default brain\n",
    "brain_name = env.brain_names[0]\n",
    "brain = env.brains[brain_name]"
   ]
  },
  {
   "cell_type": "markdown",
   "metadata": {},
   "source": [
    "### 2. Examine the State and Action Spaces\n",
    "\n",
    "Run the code cell below to print some information about the environment."
   ]
  },
  {
   "cell_type": "code",
   "execution_count": 4,
   "metadata": {},
   "outputs": [
    {
     "name": "stdout",
     "output_type": "stream",
     "text": [
      "Number of agents: 1\n",
      "Number of actions: 4\n",
      "States look like: [ 1.          0.          0.          0.          0.84408134  0.          0.\n",
      "  1.          0.          0.0748472   0.          1.          0.          0.\n",
      "  0.25755     1.          0.          0.          0.          0.74177343\n",
      "  0.          1.          0.          0.          0.25854847  0.          0.\n",
      "  1.          0.          0.09355672  0.          1.          0.          0.\n",
      "  0.31969345  0.          0.        ]\n",
      "States have length: 37\n"
     ]
    }
   ],
   "source": [
    "# reset the environment\n",
    "env_info = env.reset(train_mode=True)[brain_name]\n",
    "\n",
    "# number of agents in the environment\n",
    "print('Number of agents:', len(env_info.agents))\n",
    "\n",
    "# number of actions\n",
    "action_size = brain.vector_action_space_size\n",
    "print('Number of actions:', action_size)\n",
    "\n",
    "# examine the state space \n",
    "state = env_info.vector_observations[0]\n",
    "print('States look like:', state)\n",
    "state_size = len(state)\n",
    "print('States have length:', state_size)"
   ]
  },
  {
   "cell_type": "markdown",
   "metadata": {},
   "source": [
    "### 3. Take Random Actions in the Environment\n",
    "\n",
    "In the next code cell, you will learn how to use the Python API to control the agent and receive feedback from the environment.\n",
    "\n",
    "Note that **in this coding environment, you will not be able to watch the agent while it is training**, and you should set `train_mode=True` to restart the environment."
   ]
  },
  {
   "cell_type": "code",
   "execution_count": 5,
   "metadata": {},
   "outputs": [
    {
     "name": "stdout",
     "output_type": "stream",
     "text": [
      "Score: 0.0\n"
     ]
    }
   ],
   "source": [
    "env_info = env.reset(train_mode=True)[brain_name] # reset the environment\n",
    "state = env_info.vector_observations[0]            # get the current state\n",
    "score = 0                                          # initialize the score\n",
    "while True:\n",
    "    action = np.random.randint(action_size)        # select an action\n",
    "    env_info = env.step(action)[brain_name]        # send the action to the environment\n",
    "    next_state = env_info.vector_observations[0]   # get the next state\n",
    "    reward = env_info.rewards[0]                   # get the reward\n",
    "    done = env_info.local_done[0]                  # see if episode has finished\n",
    "    score += reward                                # update the score\n",
    "    state = next_state                             # roll over the state to next time step\n",
    "    if done:                                       # exit loop if episode finished\n",
    "        break\n",
    "    \n",
    "print(\"Score: {}\".format(score))"
   ]
  },
  {
   "cell_type": "markdown",
   "metadata": {},
   "source": [
    "When finished, you can close the environment."
   ]
  },
  {
   "cell_type": "code",
   "execution_count": 6,
   "metadata": {},
   "outputs": [],
   "source": [
    "#env.close() #do not close when we are proceeding with training below\n",
    "env_info = env.reset(train_mode=True)[brain_name] # reset the environment"
   ]
  },
  {
   "cell_type": "markdown",
   "metadata": {},
   "source": [
    "### 4. It's Your Turn!\n",
    "\n",
    "Now it's your turn to train your own agent to solve the environment!  A few **important notes**:\n",
    "- When training the environment, set `train_mode=True`, so that the line for resetting the environment looks like the following:\n",
    "```python\n",
    "env_info = env.reset(train_mode=True)[brain_name]\n",
    "```\n",
    "- To structure your work, you're welcome to work directly in this Jupyter notebook, or you might like to start over with a new file!  You can see the list of files in the workspace by clicking on **_Jupyter_** in the top left corner of the notebook.\n",
    "- In this coding environment, you will not be able to watch the agent while it is training.  However, **_after training the agent_**, you can download the saved model weights to watch the agent on your own machine! "
   ]
  },
  {
   "cell_type": "markdown",
   "metadata": {},
   "source": [
    "### agent configuration\n",
    "Agent configuration is handled by a configuration dictionary to make it easier to do hyperparameter search. \n",
    "The config is passed as a \"config\" input parameter to the agent class."
   ]
  },
  {
   "cell_type": "code",
   "execution_count": 7,
   "metadata": {},
   "outputs": [
    {
     "data": {
      "text/plain": [
       "{'BUFFER_SIZE': 100000,\n",
       " 'BATCH_SIZE': 32,\n",
       " 'GAMMA': 0.98,\n",
       " 'TAU': 0.0007,\n",
       " 'LR': 0.0004,\n",
       " 'UPDATE_EVERY': 2,\n",
       " 'N_LEARN_UPDATES': 1,\n",
       " 'hidden_layer_neurons': [128, 128, 128, 128],\n",
       " 'qnetwork_function': model.QNetwork_with_connection_from_input}"
      ]
     },
     "execution_count": 7,
     "metadata": {},
     "output_type": "execute_result"
    }
   ],
   "source": [
    "from importlib import reload\n",
    "import dqn_agent\n",
    "import model\n",
    "from datetime import datetime\n",
    "\n",
    "agent_config = {\n",
    "    \"BUFFER_SIZE\": int(1e5),  # replay buffer size\n",
    "    \"BATCH_SIZE\": 32,         # minibatch size\n",
    "    \"GAMMA\": 0.98,            # discount factor\n",
    "    \"TAU\": 7e-4,              # for soft update of target parameters\n",
    "    \"LR\": 4e-4,              # learning rate \n",
    "    \"UPDATE_EVERY\": 2,        # how often to update the network\n",
    "    \"N_LEARN_UPDATES\": 1,     # How many iterations for training on the minibatch\n",
    "    \"hidden_layer_neurons\": [128,128,128,128],   # Hidden layer neurons.\n",
    "    \"qnetwork_function\":   model.QNetwork_with_connection_from_input   # qnetwork function.\n",
    "}\n",
    "\n",
    "agent = dqn_agent.Agent(state_size=state_size, \n",
    "                        action_size=action_size, \n",
    "                        seed=1235, \n",
    "                        config=agent_config\n",
    "                       )\n",
    "agent.agent_config"
   ]
  },
  {
   "cell_type": "code",
   "execution_count": 8,
   "metadata": {},
   "outputs": [],
   "source": [
    "# load the weights from file\n",
    "if torch.cuda.is_available():\n",
    "    map_location=lambda storage, loc: storage.cuda()\n",
    "else:\n",
    "    map_location='cpu'\n",
    "\n",
    "#checkpoint = torch.load('checkpoint_2021-10-26T08 52 05.369710.pth', map_location=map_location)\n",
    "#agent.qnetwork_local.load_state_dict(checkpoint)"
   ]
  },
  {
   "cell_type": "code",
   "execution_count": 9,
   "metadata": {},
   "outputs": [
    {
     "name": "stdout",
     "output_type": "stream",
     "text": [
      "Episode 100\tAv.Score:  0.47\tCurrent:  3\tMax:  7\tMin: -2\tP25: -1.0\tP75: 1.0\tMed:  0\tstd: 1.66\n",
      "Episode 200\tAv.Score:  3.78\tCurrent:  4\tMax: 11\tMin: -2\tP25: 2.0\tP75: 5.0\tMed:  4\tstd: 2.546\n",
      "Episode 300\tAv.Score:  7.16\tCurrent:  5\tMax: 15\tMin:  0\tP25: 5.0\tP75: 9.0\tMed:  7\tstd: 2.92\n",
      "Episode 400\tAv.Score:  9.74\tCurrent: 13\tMax: 18\tMin:  1\tP25: 7.0\tP75: 12.0\tMed: 10\tstd: 3.06\n",
      "Episode 500\tAv.Score: 12.10\tCurrent: 16\tMax: 21\tMin:  2\tP25: 10.0\tP75: 14.0\tMed: 12\tstd: 3.54\n",
      "Episode 600\tAv.Score: 12.05\tCurrent: 17\tMax: 19\tMin:  1\tP25: 10.0\tP75: 15.0\tMed: 13\tstd: 3.74\n",
      "Episode 668\tAv.Score: 13.01\tCurrent: 12\tMax: 21\tMin:  3\tP25: 11.0\tP75: 16.0\tMed: 13\tstd: 3.65\n",
      "Environment solved in 568 episodes!\tAverage Score: 13.01\n"
     ]
    }
   ],
   "source": [
    "from datetime import datetime\n",
    "\n",
    "score_window_len=100\n",
    "environment_solved_score = 13.0\n",
    "\n",
    "def dqn(n_episodes: int=2400,\n",
    "        eps_start: float=1.0,\n",
    "        eps_end: float=0.01,\n",
    "        eps_decay: float=0.996,\n",
    "        N_REPEAT_ACTION: int=1):\n",
    "    \"\"\"Deep Q-Learning. Expects agent defined outside of function with name \"agent\"\n",
    "    \n",
    "    param: int n_episodes: maximum number of episodes\n",
    "    param: float eps_start: start epsilon for greedy or exploratory action\n",
    "    param: float eps_end: minimum value of epsilon\n",
    "    param: float eps_decay: decay rate. eps_next = eps_current*eps_decay\n",
    "    param: int N_REPEAT_ACTION: action repeat rate. Useful for less erratic motion\n",
    "    returns: List[int]: List of scores.\n",
    "    \"\"\"\n",
    "    \n",
    "    scores = []                        # list containing scores from each episode\n",
    "    n_actions = 0                      # number of actions taken\n",
    "    scores_window = deque(maxlen=score_window_len)  # last 100 scores\n",
    "    eps = eps_start                    # initialize epsilon\n",
    "    for i_episode in range(1, n_episodes+1):\n",
    "        env_info = env.reset(train_mode=True)[brain_name] # reset the environment\n",
    "        state = env_info.vector_observations[0]  \n",
    "        score = 0\n",
    "        while True:\n",
    "            action = agent.act(state, eps)\n",
    "            for n in range(N_REPEAT_ACTION):\n",
    "                env_info = env.step(action)[brain_name]\n",
    "                #n_actions += 1\n",
    "                next_state = env_info.vector_observations[0]   # get the next state\n",
    "                reward = env_info.rewards[0]                   # get the reward\n",
    "                done = env_info.local_done[0]                  # see if episode has finished\n",
    "                agent.step(state, action, reward, next_state, done)\n",
    "                score += reward                                # update the score\n",
    "                state = next_state    \n",
    "            if done:\n",
    "                break \n",
    "        scores_window.append(score)       # save most recent score\n",
    "        scores.append(score)              # save most recent score\n",
    "        eps = max(eps_end, eps_decay*eps) # decrease epsilon\n",
    "        ending = \"\\n\" if i_episode % score_window_len == 0 else \"\"\n",
    "        print((f'\\rEpisode {int(i_episode):3d}'\n",
    "               f'\\tAv.Score: {np.mean(scores_window):5.2f}'\n",
    "               f'\\tCurrent: {int(scores_window[-1]):2d}'\n",
    "               f\"\\tMax: {int(np.amax(scores_window)):2d}\"\n",
    "               f\"\\tMin: {int(np.amin(scores_window)):2d}\"\n",
    "               f\"\\tP25: {np.percentile(scores_window,25):3.1f}\"\n",
    "               f\"\\tP75: {np.percentile(scores_window,75):3.1f}\"               \n",
    "               f\"\\tMed: {int(np.median(scores_window)):2d}\"\n",
    "               f\"\\tstd: {np.std(scores_window):2.2f}\"\n",
    "               #f'\\tNumber of actions: {int(n_actions):7d}'\n",
    "               )\n",
    "              , end=ending)\n",
    "        if np.mean(scores_window)>=environment_solved_score:\n",
    "            print('\\nEnvironment solved in {:d} episodes!\\tAverage Score: {:.2f}'.format(i_episode-100, np.mean(scores_window)))\n",
    "            torch.save(agent.qnetwork_local.state_dict(), f'checkpoint_{datetime.now().isoformat()}.pth')\n",
    "            break\n",
    "    return scores\n",
    "\n",
    "scores = dqn()\n",
    "env.close()"
   ]
  },
  {
   "cell_type": "markdown",
   "metadata": {},
   "source": [
    "### Plot scores\n",
    "Plot the scores and the moving average as a function of episode."
   ]
  },
  {
   "cell_type": "code",
   "execution_count": 10,
   "metadata": {},
   "outputs": [
    {
     "name": "stderr",
     "output_type": "stream",
     "text": [
      "/opt/conda/lib/python3.6/site-packages/matplotlib/figure.py:418: UserWarning: matplotlib is currently using a non-GUI backend, so cannot show the figure\n",
      "  \"matplotlib is currently using a non-GUI backend, \"\n"
     ]
    }
   ],
   "source": [
    "import matplotlib.pyplot as plt\n",
    "score_window_len=100\n",
    "environment_solved_score = 13.0\n",
    "# compute rolling average with a discrete convolution of ones (to make a sum)\n",
    "# prepended with a list of 0s to account for initial episodes\n",
    "rolling_average = np.convolve(\n",
    "    np.ones(score_window_len),\n",
    "    np.append(np.zeros(score_window_len-1),np.array(scores)), \n",
    "    'valid')/score_window_len\n",
    "\n",
    "# plot the scores\n",
    "np.zeros(100)\n",
    "xs = np.arange(len(scores))\n",
    "fig = plt.figure(figsize=[12,8])\n",
    "ax = fig.add_subplot(111)\n",
    "h1 = ax.plot(xs, scores, '.-')\n",
    "h2 = ax.plot(xs, rolling_average)\n",
    "h3 = ax.plot(xs, environment_solved_score*np.ones(len(scores)), ':')\n",
    "ax.set_ylabel('Score')\n",
    "ax.set_xlabel('Episode #')\n",
    "ax.legend([\"scores\", \"rolling average\", \"target score\"])\n",
    "fig.show()\n",
    "fig.savefig(\"scores.png\", dpi=400)"
   ]
  }
 ],
 "metadata": {
  "kernelspec": {
   "display_name": "Python 3",
   "language": "python",
   "name": "python3"
  },
  "language_info": {
   "codemirror_mode": {
    "name": "ipython",
    "version": 3
   },
   "file_extension": ".py",
   "mimetype": "text/x-python",
   "name": "python",
   "nbconvert_exporter": "python",
   "pygments_lexer": "ipython3",
   "version": "3.6.3"
  }
 },
 "nbformat": 4,
 "nbformat_minor": 2
}
